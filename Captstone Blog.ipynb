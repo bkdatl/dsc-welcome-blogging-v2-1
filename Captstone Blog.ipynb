{
 "cells": [
  {
   "cell_type": "markdown",
   "metadata": {},
   "source": [
    "# Predicting Player Effectiveness in Major League Baseball "
   ]
  },
  {
   "cell_type": "markdown",
   "metadata": {},
   "source": [
    "Baseball has always been a great source of entertainment and recreation for me personally. I grew up playing baseball and after my playing days were done I continued to be an avid fan of the game, watching games whenever possible. The statistical nature of the game is also a great interest of mine, it is a game of extensive record keeping, with historical statistics meticulously kept sarticular project ince the early 1900s the sheer amount of data available for the game is amazing. With the plethora of data available certain metrics can be measured to determine and evaluate play of teams and individual players. The challenge in baseball is that while it is a team sport, during batting you end up with one batter versus an entire team. My original plan for this project was to use the Microsoft 'Trueskill' library to create individual player metrics of that player versus a particular opponent. However, that quickly grew outside my capabilities at this time as creating an evaluation metric for both the individual player verses the entire 9 players on the team was extremely difficult. If you do a web search for predictive models for baseball, the results are very limited, this is because baseball has so many variables. Evaluating individual player performance is difficult enough, however when you add the complexity of additional environmental factors, pitch selection, walk/K rates, just to name a few, the evaluations become increasingly complex and difficult to manage and get meaningful results from. "
   ]
  },
  {
   "cell_type": "markdown",
   "metadata": {},
   "source": [
    "## Finding and importing data"
   ]
  },
  {
   "cell_type": "markdown",
   "metadata": {},
   "source": [
    "There are two main statistics sites in regard to baseball data: fangraphs and baseball reference. Both are very complete and provide advanced metrics and even their own advanced analytics. For this project I primarily used baseball reference data sets but also pulled certain data sets from fangraphs as well. Even examining only one season the level of deatail and number of variables for both offence and pitching is daunting. With modeling in mind I attempted to be highly selective in which variables I examined to create a narrow but effective prediction system. "
   ]
  },
  {
   "cell_type": "markdown",
   "metadata": {},
   "source": [
    "<img src=\"img/bbdata_in.png\" />"
   ]
  },
  {
   "cell_type": "markdown",
   "metadata": {},
   "source": [
    "For scoring metrics I identified that runs and hits were the most correlated to the outcome of the game. My initial plan was to cross reference this data against that of individual player statistics weighted utilizing the microsoft true-Skill python library. However I ran into a number of object oriented programming challenges with this that were, to be honest, above my skill level in terms of programming. So instead my next step was to compartmentalize this data and extrapolate hit rates over time for the Atlanta Braves 2019 season. "
   ]
  },
  {
   "cell_type": "markdown",
   "metadata": {},
   "source": [
    "## Analysis "
   ]
  },
  {
   "cell_type": "markdown",
   "metadata": {},
   "source": [
    "<img src=\"img/bb_hit_scat.png\" />"
   ]
  },
  {
   "cell_type": "markdown",
   "metadata": {},
   "source": [
    "<img src=\"img/bb_dist_runs.png\" /> <img src=\"img/bb_dist_hits.png\" />"
   ]
  },
  {
   "cell_type": "markdown",
   "metadata": {},
   "source": [
    "This data shows a number of things, including the rate of runs over time during the 2019 season, as well as the distribution of both runs and hits. "
   ]
  },
  {
   "cell_type": "markdown",
   "metadata": {},
   "source": [
    "## Modeling"
   ]
  },
  {
   "cell_type": "markdown",
   "metadata": {},
   "source": [
    "Moving onto the meat of this project was the modeling portion. I wanted to predict the overall outcome of games based on collected statistics regarding previous games. After converting win/loss to a binary value, I narrowed down my data set to the most significantly correlated columns which were: 'PA', 'AB', 'R', 'H', '2B', '3B', 'HR', 'RBI','BB', 'IBB', 'SO', 'ROE', 'SB', 'BA', 'SLG', 'OPS'. \n",
    "\n",
    "From these I Identified that Kmeans would be a good choice for this particular model. I wanted overall validation of the model regardless of accuracy as with the sheer number of variables, the outcome is heavily influenced by even minor changes in game. To validate this model I used RidgeCV. \n"
   ]
  },
  {
   "cell_type": "markdown",
   "metadata": {},
   "source": [
    "<img src=\"img/bb_kmean.png\" />"
   ]
  },
  {
   "cell_type": "markdown",
   "metadata": {},
   "source": [
    "To validate the results I used Mean Absolute Error, In statistics, mean absolute error (MAE) is a measure of errors between paired observations expressing the same phenomenon.  At 39% MAE, the model is by no means refined. Below we cross validate the results with RidgeCV with a similar output, confidence in predicting outcomes with the provided data is just not going to be accurate enough. Thus below we enter the second portion of the project, to predict particular player value as opposed to team value. \n",
    "\n"
   ]
  },
  {
   "cell_type": "markdown",
   "metadata": {},
   "source": [
    "RidgeCV MAE: 0.39717158914083306\n"
   ]
  },
  {
   "cell_type": "markdown",
   "metadata": {},
   "source": [
    "Linear Regression MAE: 0.3922009257092688"
   ]
  },
  {
   "cell_type": "markdown",
   "metadata": {},
   "source": [
    "## Analysis of individual player perfomance\n"
   ]
  },
  {
   "cell_type": "markdown",
   "metadata": {},
   "source": [
    "Following the overall season performance - I decided to look at the underlying individual player performances that lead to these outcomes. After looking through the extensive list of advanced statistics I settled on WAR or Wins Above Replacement as the best overall choice for a since integer for analysis."
   ]
  },
  {
   "cell_type": "markdown",
   "metadata": {},
   "source": [
    "Wins Above Replacement (WAR) Definition\n",
    "\n",
    "WAR measures a player's value in all facets of the game by deciphering how many more wins he's worth than a replacement-level player at his same position (e.g., a Minor League replacement or a readily available fill-in free agent).\n",
    "\n",
    "For example, if a shortstop and a first baseman offer the same overall production (on offense, defense and the basepaths), the shortstop will have a better WAR because his position sees a lower level of production from replacement-level players. The formula\n",
    "\n",
    "For position players: (The number of runs above average a player is worth in his batting, baserunning and fielding + adjustment for position + adjustment for league + the number of runs provided by a replacement-level player) / runs per win\n",
    "\n",
    "For pitchers: Different WAR computations use either RA9 or FIP. Those numbers are adjusted for league and ballpark. Then, using league averages, it is determined how many wins a pitcher was worth based on those numbers and his innings pitched total.\n",
    "\n",
    "Note: fWAR refers to Fangraphs' calculation of WAR. bWAR or rWAR refer to Baseball-Reference's calculation. And WARP refers to Baseball Prospectus' statistic \"Wins Above Replacement Player.\" The calculations differ slightly -- for instance, fWAR uses FIP in determining pitcher WAR, while bWAR uses RA9. But all three stats answer the same question: How valuable is a player in comparison to replacement level? Why it's useful\n",
    "\n",
    "WAR quantifies each player's value in terms of a specific numbers of wins. And because WAR factors in a positional adjustment, it is well suited for comparing players who man different defensive positions.\n",
    "\n"
   ]
  },
  {
   "cell_type": "markdown",
   "metadata": {},
   "source": [
    "<img src=\"img/bb_stat_dist.png\" />"
   ]
  },
  {
   "cell_type": "markdown",
   "metadata": {},
   "source": [
    "<img src=\"img/bb_scat\n",
    ".png\" />"
   ]
  },
  {
   "cell_type": "markdown",
   "metadata": {},
   "source": [
    "Using this analysis I utilized sklearn to build a model to analyze expected WAR value based on the 2019 season statistics. Essentially what I found is that high WAR players are statistical outliers. \n"
   ]
  },
  {
   "cell_type": "code",
   "execution_count": null,
   "metadata": {},
   "outputs": [],
   "source": []
  }
 ],
 "metadata": {
  "kernelspec": {
   "display_name": "Python [conda env:learn-env] *",
   "language": "python",
   "name": "conda-env-learn-env-py"
  },
  "language_info": {
   "codemirror_mode": {
    "name": "ipython",
    "version": 3
   },
   "file_extension": ".py",
   "mimetype": "text/x-python",
   "name": "python",
   "nbconvert_exporter": "python",
   "pygments_lexer": "ipython3",
   "version": "3.6.9"
  },
  "toc": {
   "base_numbering": 1,
   "nav_menu": {},
   "number_sections": true,
   "sideBar": true,
   "skip_h1_title": false,
   "title_cell": "Table of Contents",
   "title_sidebar": "Contents",
   "toc_cell": false,
   "toc_position": {},
   "toc_section_display": true,
   "toc_window_display": false
  }
 },
 "nbformat": 4,
 "nbformat_minor": 2
}

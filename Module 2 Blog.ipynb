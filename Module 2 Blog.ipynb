{
 "cells": [
  {
   "cell_type": "markdown",
   "metadata": {},
   "source": [
    "# Module 2 Blog - Analysis and Models of King County Housing data"
   ]
  },
  {
   "cell_type": "markdown",
   "metadata": {},
   "source": [
    "A quick search of the internet will reveal a number of blog similar to this one - this particular data set is utilized as an example of real-world data sets that are used in instructive settings for data science and data analysis across the world. \n",
    "I was particularly interested in this project as in 2008 during the largest housing crash in US history I was working in that particular industry. I was one of the lucky ones who didn't actually lose my job as a 20ish year old. I was working for a company that specialized in the management of forclosed properties and business was booming, with millions of dollars of new real estate entering my inventory on a weekly basis. Many of these homes were built and sold for $300,000+ only a few years prior and now were sitting on virtually worthless land waiting to be bought for pennies on the dollar by investment groups. \n",
    "This particular dataset - while not a historic dataset, provides a look into the indicators of porperty values and the market demands for particular features, size, location and ammenties a house has to offer. \n"
   ]
  },
  {
   "cell_type": "markdown",
   "metadata": {},
   "source": [
    "## What We Did"
   ]
  },
  {
   "cell_type": "markdown",
   "metadata": {},
   "source": [
    "Essentially this project can be broken down into a few sections: \n",
    "        \n",
    "        \n",
    "    Understand the Business Domain\n",
    "    Get the Data\n",
    "    Explore and Clean Data\n",
    "    Model the Data \n",
    "  "
   ]
  },
  {
   "cell_type": "markdown",
   "metadata": {},
   "source": [
    "## Understanding the business and Getting the appropriate data"
   ]
  },
  {
   "cell_type": "markdown",
   "metadata": {},
   "source": [
    "The first part was understanding what we were looking for, essentially since we were examining a specific geographic location, my focus was to examine the particular factors that drive housing prices in that location, and more specifically the city of Seattle proper versus the surrounding county. The dataset was supplied as a CSV file and number of data specific python libraries were utilized to support the import, cleaning and filtering of said data. "
   ]
  },
  {
   "cell_type": "markdown",
   "metadata": {
    "ExecuteTime": {
     "end_time": "2020-08-06T07:58:53.777177Z",
     "start_time": "2020-08-06T07:58:53.749722Z"
    }
   },
   "source": [
    "<img src=\"img/data_import.png\" />"
   ]
  },
  {
   "cell_type": "markdown",
   "metadata": {},
   "source": [
    "## Cleaning and Examining the data "
   ]
  },
  {
   "cell_type": "markdown",
   "metadata": {},
   "source": [
    "Overall first impression of the data set revealed it was relatively clean - limited null values, and similar shape across all columns. Certain columns I knew were not going to be relevant to my analysis were dropped as well as simplifying the data column to a more model friendly format, creating a number value for each specific data as opposed to trying to standardize a date field, which is time consuming and not particularly necessary. "
   ]
  },
  {
   "cell_type": "markdown",
   "metadata": {},
   "source": [
    "Following a simple cleaning of the data I examined the correlated values. As seen in the correlation table it can be seen that bedroom and bathroom count definatly are correlated to price, however the data also indicates the correlation is not always related to bigger house = higher price. "
   ]
  },
  {
   "cell_type": "markdown",
   "metadata": {},
   "source": [
    "<img src=\"img/dacorr.png\" />"
   ]
  },
  {
   "cell_type": "markdown",
   "metadata": {},
   "source": [
    "## Visualizations and Conclusions "
   ]
  },
  {
   "cell_type": "markdown",
   "metadata": {},
   "source": [
    "Based on the provided data - and after looking at the split between Seattle city and the surrounding county a clear picture is evident, housing prices within the city limits are far closer to tied to size and number of useable living space as opposed to those in the surrounding county. "
   ]
  },
  {
   "cell_type": "markdown",
   "metadata": {},
   "source": [
    "<img src=\"img/baroom.png\" />"
   ]
  },
  {
   "cell_type": "markdown",
   "metadata": {},
   "source": [
    "<img src=\"img/broom.png\" />"
   ]
  },
  {
   "cell_type": "markdown",
   "metadata": {},
   "source": [
    "As one of my first forays into data modeling I attempted to keep things simple, statsmodels OLS was utilized in order to create a linear fit of the data, I had some issues with data fitment that took quite some time to troubleshoot being my first project, however once those were resolved my model confirmed my traditional analysis of the data. If I was to continue this project I would like to gather historical data of the area and examine the historical price trends over time, particularly those from the market downturn and the bounce back of Seattle market. "
   ]
  },
  {
   "cell_type": "code",
   "execution_count": null,
   "metadata": {},
   "outputs": [],
   "source": []
  }
 ],
 "metadata": {
  "kernelspec": {
   "display_name": "Python [conda env:learn-env] *",
   "language": "python",
   "name": "conda-env-learn-env-py"
  },
  "language_info": {
   "codemirror_mode": {
    "name": "ipython",
    "version": 3
   },
   "file_extension": ".py",
   "mimetype": "text/x-python",
   "name": "python",
   "nbconvert_exporter": "python",
   "pygments_lexer": "ipython3",
   "version": "3.6.9"
  },
  "toc": {
   "base_numbering": 1,
   "nav_menu": {},
   "number_sections": true,
   "sideBar": true,
   "skip_h1_title": false,
   "title_cell": "Table of Contents",
   "title_sidebar": "Contents",
   "toc_cell": false,
   "toc_position": {},
   "toc_section_display": true,
   "toc_window_display": false
  }
 },
 "nbformat": 4,
 "nbformat_minor": 2
}

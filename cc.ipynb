{
 "cells": [
  {
   "cell_type": "markdown",
   "metadata": {},
   "source": [
    "# Predicting Player Effectiveness in Major League Baseball "
   ]
  },
  {
   "cell_type": "markdown",
   "metadata": {},
   "source": [
    "Baseball has always been a great source of entertainment and recreation for me personally. I grew up playing baseball and after my playing days were done I continued to be an avid fan of the game, watching games whenever possible. The statistical nature of the game is also a great interest of mine, it is a game of extensive record keeping, with historical statistics meticulously kept sarticular project ince the early 1900s the sheer amount of data available for the game is amazing. With the plethora of data available certain metrics can be measured to determine and evaluate play of teams and individual players. The challenge in baseball is that while it is a team sport, during batting you end up with one batter versus an entire team. My original plan for this project was to use the Microsoft 'Trueskill' library to create individual player metrics of that player versus a particular opponent. However, that quickly grew outside my capabilities at this time as creating an evaluation metric for both the individual player verses the entire 9 players on the team was extremely difficult. If you do a web search for predictive models for baseball, the results are very limited, this is because baseball has so many variables. Evaluating individual player performance is difficult enough, however when you add the complexity of additional environmental factors, pitch selection, walk/K rates, just to name a few, the evaluations become increasingly complex and difficult to manage and get meaningful results from. "
   ]
  },
  {
   "cell_type": "markdown",
   "metadata": {},
   "source": [
    "## Finding and importing data"
   ]
  },
  {
   "cell_type": "markdown",
   "metadata": {},
   "source": [
    "There are two main statistics sites in regard to baseball data: fangraphs and baseball reference. Both are very complete and provide advanced metrics and even their own advanced analytics. For this project I primarily used baseball reference data sets but also pulled certain data sets from fangraphs as well. Even examining only one season the level of deatail and number of variables for both offence and pitching is daunting. With modeling in mind I attempted to be highly selective in which variables I examined to create a narrow but effective prediction system. "
   ]
  },
  {
   "cell_type": "markdown",
   "metadata": {},
   "source": [
    "<img src=\"img/bbdata_in.png\" />"
   ]
  },
  {
   "cell_type": "markdown",
   "metadata": {},
   "source": []
  },
  {
   "cell_type": "markdown",
   "metadata": {},
   "source": []
  },
  {
   "cell_type": "markdown",
   "metadata": {},
   "source": []
  },
  {
   "cell_type": "markdown",
   "metadata": {},
   "source": []
  },
  {
   "cell_type": "markdown",
   "metadata": {},
   "source": []
  },
  {
   "cell_type": "markdown",
   "metadata": {},
   "source": []
  },
  {
   "cell_type": "markdown",
   "metadata": {},
   "source": []
  },
  {
   "cell_type": "markdown",
   "metadata": {},
   "source": []
  },
  {
   "cell_type": "markdown",
   "metadata": {},
   "source": []
  },
  {
   "cell_type": "markdown",
   "metadata": {},
   "source": []
  },
  {
   "cell_type": "markdown",
   "metadata": {},
   "source": []
  },
  {
   "cell_type": "markdown",
   "metadata": {},
   "source": []
  },
  {
   "cell_type": "markdown",
   "metadata": {},
   "source": []
  },
  {
   "cell_type": "markdown",
   "metadata": {},
   "source": []
  }
 ],
 "metadata": {
  "kernelspec": {
   "display_name": "Python [conda env:learn-env] *",
   "language": "python",
   "name": "conda-env-learn-env-py"
  },
  "language_info": {
   "codemirror_mode": {
    "name": "ipython",
    "version": 3
   },
   "file_extension": ".py",
   "mimetype": "text/x-python",
   "name": "python",
   "nbconvert_exporter": "python",
   "pygments_lexer": "ipython3",
   "version": "3.6.9"
  },
  "toc": {
   "base_numbering": 1,
   "nav_menu": {},
   "number_sections": true,
   "sideBar": true,
   "skip_h1_title": false,
   "title_cell": "Table of Contents",
   "title_sidebar": "Contents",
   "toc_cell": false,
   "toc_position": {},
   "toc_section_display": true,
   "toc_window_display": false
  }
 },
 "nbformat": 4,
 "nbformat_minor": 2
}

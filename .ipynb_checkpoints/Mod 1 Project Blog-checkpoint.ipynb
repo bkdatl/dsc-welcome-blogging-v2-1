{
 "cells": [
  {
   "cell_type": "markdown",
   "metadata": {},
   "source": [
    "# Blog Post for Module 1 Final Project"
   ]
  },
  {
   "cell_type": "markdown",
   "metadata": {},
   "source": [
    "# Analysizing Profitability Metrics In Movie Production"
   ]
  },
  {
   "cell_type": "markdown",
   "metadata": {},
   "source": [
    "## Introduction"
   ]
  },
  {
   "cell_type": "markdown",
   "metadata": {},
   "source": [
    "The movie industry has been an important part of my life for as long as I can rememeber. I grew up in the industry. My father opened one of the first indepenednt film production studios in Atlanta in the 1980s and for years produced, directed, financed, edited and released an array of media content including feature films, documentaries, comercials, internal corporate video, and promos. \n",
    "Becuase of this experience, being around and working with his small business it helped me understand the important aspects of video production, what brings in the clients and what is needed to make money in the business. And, in my opinion, that is creative talent. A great staff of the highest paid, most in demand producers, editors and directors typically will lead to you winning the production business. \n",
    "However, creative talent is a highly trial and error hiring process, keeping talent is even harder particularly with the ebbs and flows of recession and boom and is nearly impossible to create metrics for identifying the next top and upcomming editors without just trying them out. \n",
    "So for this project I took the business approach, to analyze the data from a business profitability standpoint and see what simple strategies could be empoyed to get the higest return on investment in an industry that operates entirely on 'feel' and 'gut-instict'. \n"
   ]
  },
  {
   "cell_type": "markdown",
   "metadata": {},
   "source": [
    "### Section 1: Analysis of the Most Profitable Films"
   ]
  },
  {
   "cell_type": "markdown",
   "metadata": {},
   "source": [
    "The first thing I wanted to look at was the overall profitability of the top large-budget, hollywood blockbusters. \n",
    "It's easy to say, 'Whoa, that movie made a $1,000,000,000 they must be super rich'. However, many of these films are elaborate and complex requiring an army of people, hired on union contracts for months if not years, and thats just for production! Post prodcution can be equally expensive with modern computer animation requireing extensive teams of animators, unity develops, graphic artist and facility time with near super-computers rendering day and night. "
   ]
  },
  {
   "cell_type": "markdown",
   "metadata": {},
   "source": [
    "The data for revenue was easily obtainable as well as the data for production budgets, however there was a lack of profitiablility metrics, so after creating a centralized repository for the data, it was a fairly simple SQL join to create a new metric from the available data for all the films in the database. Turns out the most difficult part of this entire section was just filtering out miscelanious characters in the gross margin sections in order to work the the numbers as integers. "
   ]
  },
  {
   "cell_type": "code",
   "execution_count": null,
   "metadata": {},
   "outputs": [],
   "source": [
    "# Format SQL Database to remove non integer characters \n",
    "cur.execute(\"\"\" \n",
    "            UPDATE tn_movie_budgets_gz\n",
    "            SET worldwide_gross =  \n",
    "            REPLACE(worldwide_gross, '$', '');\"\"\")\n",
    "\n",
    "cur.execute(\"\"\" \n",
    "            UPDATE tn_movie_budgets_gz\n",
    "            SET worldwide_gross =  \n",
    "            REPLACE(worldwide_gross, ',', '');\"\"\")\n",
    "\n",
    "cur.execute(\"\"\" \n",
    "            UPDATE tn_movie_budgets_gz\n",
    "            SET production_budget =  \n",
    "            REPLACE(production_budget, '$', '');\"\"\")\n",
    "\n",
    "cur.execute(\"\"\" \n",
    "            UPDATE tn_movie_budgets_gz\n",
    "            SET production_budget =  \n",
    "            REPLACE(production_budget, ',', '');\"\"\")"
   ]
  },
  {
   "cell_type": "markdown",
   "metadata": {},
   "source": [
    "This was pushed into a datafield that could easily be manipulated or visualized: "
   ]
  },
  {
   "cell_type": "markdown",
   "metadata": {},
   "source": [
    "\n",
    "<img src=\"img/blog_profit.png\" />"
   ]
  },
  {
   "cell_type": "markdown",
   "metadata": {},
   "source": [
    "### Section 2: Examining Profitability by Studio"
   ]
  },
  {
   "cell_type": "markdown",
   "metadata": {},
   "source": [
    "The second aspect of this project I wanted to examine was to evaluate potential production partners for new companies looking to produce high-dollar movies. Essentially we wanted to look at which studios produce the most profitable and unprofitable films. The first step was sorting the data and utilization of the Pandas function ValueCount(). "
   ]
  },
  {
   "cell_type": "code",
   "execution_count": 1,
   "metadata": {},
   "outputs": [
    {
     "ename": "NameError",
     "evalue": "name 'studio_profits_df' is not defined",
     "output_type": "error",
     "traceback": [
      "\u001b[0;31m---------------------------------------------------------------------------\u001b[0m",
      "\u001b[0;31mNameError\u001b[0m                                 Traceback (most recent call last)",
      "\u001b[0;32m<ipython-input-1-579342ea9b84>\u001b[0m in \u001b[0;36m<module>\u001b[0;34m\u001b[0m\n\u001b[0;32m----> 1\u001b[0;31m \u001b[0mnum_profit_movies\u001b[0m \u001b[0;34m=\u001b[0m \u001b[0mstudio_profits_df\u001b[0m\u001b[0;34m[\u001b[0m\u001b[0;34m'studio'\u001b[0m\u001b[0;34m]\u001b[0m\u001b[0;34m.\u001b[0m\u001b[0mvalue_counts\u001b[0m\u001b[0;34m(\u001b[0m\u001b[0;34m)\u001b[0m\u001b[0;34m\u001b[0m\u001b[0;34m\u001b[0m\u001b[0m\n\u001b[0m\u001b[1;32m      2\u001b[0m \u001b[0mnum_profit_movies_df\u001b[0m \u001b[0;34m=\u001b[0m \u001b[0mpd\u001b[0m\u001b[0;34m.\u001b[0m\u001b[0mDataFrame\u001b[0m\u001b[0;34m(\u001b[0m\u001b[0mnum_profit_movies\u001b[0m\u001b[0;34m,\u001b[0m \u001b[0mcolumns\u001b[0m \u001b[0;34m=\u001b[0m \u001b[0;34m[\u001b[0m\u001b[0;34m'studio'\u001b[0m\u001b[0;34m]\u001b[0m\u001b[0;34m)\u001b[0m\u001b[0;34m\u001b[0m\u001b[0;34m\u001b[0m\u001b[0m\n\u001b[1;32m      3\u001b[0m \u001b[0mpd\u001b[0m\u001b[0;34m.\u001b[0m\u001b[0mset_option\u001b[0m\u001b[0;34m(\u001b[0m\u001b[0;34m'display.max_columns'\u001b[0m\u001b[0;34m,\u001b[0m \u001b[0;32mNone\u001b[0m\u001b[0;34m)\u001b[0m\u001b[0;34m\u001b[0m\u001b[0;34m\u001b[0m\u001b[0m\n\u001b[1;32m      4\u001b[0m \u001b[0mpd\u001b[0m\u001b[0;34m.\u001b[0m\u001b[0mset_option\u001b[0m\u001b[0;34m(\u001b[0m\u001b[0;34m'display.max_rows'\u001b[0m\u001b[0;34m,\u001b[0m \u001b[0;32mNone\u001b[0m\u001b[0;34m)\u001b[0m\u001b[0;34m\u001b[0m\u001b[0;34m\u001b[0m\u001b[0m\n\u001b[1;32m      5\u001b[0m \u001b[0mnum_profit_movies_df\u001b[0m\u001b[0;34m.\u001b[0m\u001b[0mreset_index\u001b[0m\u001b[0;34m(\u001b[0m\u001b[0;34m)\u001b[0m\u001b[0;34m\u001b[0m\u001b[0;34m\u001b[0m\u001b[0m\n",
      "\u001b[0;31mNameError\u001b[0m: name 'studio_profits_df' is not defined"
     ]
    }
   ],
   "source": [
    "num_profit_movies = studio_profits_df['studio'].value_counts()\n",
    "num_profit_movies_df = pd.DataFrame(num_profit_movies, columns = ['studio'])\n",
    "pd.set_option('display.max_columns', None)\n",
    "pd.set_option('display.max_rows', None)\n",
    "num_profit_movies_df.reset_index()\n",
    "num_profit_movies_df.head()"
   ]
  },
  {
   "cell_type": "markdown",
   "metadata": {},
   "source": [
    "This was joined witht the profit data from the previos question section and sorted by number of profitable or unprofitable moveies each studio producted. It was concluded that studios that produce some of the largest revenue generating films also have a good track record of not producing films that loose money, as seen in the bar graph below that was made utilizing matplotlib. "
   ]
  },
  {
   "cell_type": "markdown",
   "metadata": {},
   "source": [
    "<img src=\"img/section2bar.png\" />"
   ]
  },
  {
   "cell_type": "markdown",
   "metadata": {},
   "source": [
    "### Section 3: Examining Movie Revenue by Genre"
   ]
  },
  {
   "cell_type": "markdown",
   "metadata": {},
   "source": [
    "The final business metric studied was looking at revenue distributed by the genre and sub-genre of the top 50 grossing movies. To do this we pulled data from two different csv files, one containing genre information, one containing gross revenue information. Due to load on the SQLite database from the other two files and for sheer practice with python syntax. I made the decision to load the csv files directly using Pandas and create datafields using the same library. "
   ]
  },
  {
   "cell_type": "markdown",
   "metadata": {},
   "source": [
    "Python and Pandas were also used for the data normalization of each table, joining of the two datafileds and sorting and data cleaning, as seen in some of the example code below. "
   ]
  },
  {
   "cell_type": "code",
   "execution_count": 4,
   "metadata": {},
   "outputs": [
    {
     "ename": "NameError",
     "evalue": "name 'pd' is not defined",
     "output_type": "error",
     "traceback": [
      "\u001b[0;31m---------------------------------------------------------------------------\u001b[0m",
      "\u001b[0;31mNameError\u001b[0m                                 Traceback (most recent call last)",
      "\u001b[0;32m<ipython-input-4-c446cd2a8034>\u001b[0m in \u001b[0;36m<module>\u001b[0;34m\u001b[0m\n\u001b[1;32m      1\u001b[0m \u001b[0;31m#merging the two dataframs on the title column and dropping rows with NaN values, as even with the drops the data sample size is ok.\u001b[0m\u001b[0;34m\u001b[0m\u001b[0;34m\u001b[0m\u001b[0;34m\u001b[0m\u001b[0m\n\u001b[0;32m----> 2\u001b[0;31m \u001b[0mdf_working\u001b[0m \u001b[0;34m=\u001b[0m \u001b[0mpd\u001b[0m\u001b[0;34m.\u001b[0m\u001b[0mmerge\u001b[0m\u001b[0;34m(\u001b[0m\u001b[0mdf_profit\u001b[0m\u001b[0;34m,\u001b[0m \u001b[0mdf_genre_rename\u001b[0m\u001b[0;34m,\u001b[0m \u001b[0mon\u001b[0m\u001b[0;34m=\u001b[0m\u001b[0;34m'title'\u001b[0m\u001b[0;34m)\u001b[0m\u001b[0;34m\u001b[0m\u001b[0;34m\u001b[0m\u001b[0m\n\u001b[0m\u001b[1;32m      3\u001b[0m \u001b[0mdf_working2\u001b[0m \u001b[0;34m=\u001b[0m \u001b[0mdf_working\u001b[0m\u001b[0;34m.\u001b[0m\u001b[0mdropna\u001b[0m\u001b[0;34m(\u001b[0m\u001b[0;34m)\u001b[0m\u001b[0;34m\u001b[0m\u001b[0;34m\u001b[0m\u001b[0m\n",
      "\u001b[0;31mNameError\u001b[0m: name 'pd' is not defined"
     ]
    }
   ],
   "source": [
    "#merging the two dataframs on the title column and dropping rows with NaN values, as even with the drops the data sample size is ok. \n",
    "df_working = pd.merge(df_profit, df_genre_rename, on='title')\n",
    "df_working2 = df_working.dropna()"
   ]
  },
  {
   "cell_type": "code",
   "execution_count": null,
   "metadata": {},
   "outputs": [],
   "source": [
    "#Removing duplicates from the data set. \n",
    "df_cleaned = df_working2.drop_duplicates(subset = 'title', keep = 'first', inplace = False) "
   ]
  },
  {
   "cell_type": "code",
   "execution_count": null,
   "metadata": {},
   "outputs": [],
   "source": [
    "#Collecting the number of times each genere appears in the datafield. \n",
    "df_genre_counts = pd.DataFrame(df_cleaned['genres'].value_counts())"
   ]
  },
  {
   "cell_type": "markdown",
   "metadata": {},
   "source": [
    "Again, matplotlib was utilized for its simplicity and clean visualizations to best depict this data in bar graph format. The graph below clearly shows the US market afininty for Action/Adventure movies and all their related subgenres. "
   ]
  },
  {
   "cell_type": "markdown",
   "metadata": {},
   "source": [
    "<img src=\"img/bargenre.png\" />"
   ]
  },
  {
   "cell_type": "markdown",
   "metadata": {},
   "source": [
    "# Conclusions, Changes"
   ]
  },
  {
   "cell_type": "markdown",
   "metadata": {},
   "source": [
    "Overall, I think the metrics examined look at fairly straightforward metrics that can be easiliy quantified into business cases. I belive the results are sounds and the data examined is well sorted orgonized and creates a clear agurment for 3 business decisions. \n",
    "1) Large Screen media production is cost effective despite extensive requirements for initial capital. \n",
    "2) Strong partnership, or awareness or strong competitors would be statistically adventageous for Movie production. \n",
    "3) Certain Genre are easier to market and on average produce a greater quantity of revenue. \n"
   ]
  },
  {
   "cell_type": "markdown",
   "metadata": {},
   "source": [
    "Given more time, or if I was to undertake a followup project, certain aspects would be revisited. One example would be using a seaborn heatmap for the genere catagory. I think it is a great use of a heatmap as it could visualize the relationships between specific genere and subgenre. Additionally, I would also like to refilter the data to examine films with more normalized production budgets instead of examining the overall most profitable titles. "
   ]
  },
  {
   "cell_type": "code",
   "execution_count": null,
   "metadata": {},
   "outputs": [],
   "source": []
  }
 ],
 "metadata": {
  "kernelspec": {
   "display_name": "Python [conda env:learn-env] *",
   "language": "python",
   "name": "conda-env-learn-env-py"
  },
  "language_info": {
   "codemirror_mode": {
    "name": "ipython",
    "version": 3
   },
   "file_extension": ".py",
   "mimetype": "text/x-python",
   "name": "python",
   "nbconvert_exporter": "python",
   "pygments_lexer": "ipython3",
   "version": "3.6.9"
  },
  "toc": {
   "base_numbering": 1,
   "nav_menu": {},
   "number_sections": true,
   "sideBar": true,
   "skip_h1_title": false,
   "title_cell": "Table of Contents",
   "title_sidebar": "Contents",
   "toc_cell": false,
   "toc_position": {},
   "toc_section_display": true,
   "toc_window_display": false
  },
  "varInspector": {
   "cols": {
    "lenName": 16,
    "lenType": 16,
    "lenVar": 40
   },
   "kernels_config": {
    "python": {
     "delete_cmd_postfix": "",
     "delete_cmd_prefix": "del ",
     "library": "var_list.py",
     "varRefreshCmd": "print(var_dic_list())"
    },
    "r": {
     "delete_cmd_postfix": ") ",
     "delete_cmd_prefix": "rm(",
     "library": "var_list.r",
     "varRefreshCmd": "cat(var_dic_list()) "
    }
   },
   "types_to_exclude": [
    "module",
    "function",
    "builtin_function_or_method",
    "instance",
    "_Feature"
   ],
   "window_display": false
  }
 },
 "nbformat": 4,
 "nbformat_minor": 2
}

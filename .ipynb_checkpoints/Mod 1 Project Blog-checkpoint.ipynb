{
 "cells": [
  {
   "cell_type": "markdown",
   "metadata": {},
   "source": [
    "# Blog Post for Module 1 Final Project"
   ]
  },
  {
   "cell_type": "markdown",
   "metadata": {},
   "source": [
    "# Analysizing Profitability Metrics In Movie Production"
   ]
  },
  {
   "cell_type": "markdown",
   "metadata": {},
   "source": [
    "## Introduction"
   ]
  },
  {
   "cell_type": "markdown",
   "metadata": {},
   "source": [
    "The movie industry has been an important part of my life for as long as I can rememeber. I grew up in the industry. My father opened one of the first indepenednt film production studios in Atlanta in the 1980s and for years produced, directed, financed, edited and released an array of media content including feature films, documentaries, comercials, internal corporate video, and promos. \n",
    "Becuase of this experience, being around and working with his small business it helped me understand the important aspects of video production, what brings in the clients and what is needed to make money in the business. And, in my opinion, that is creative talent. A great staff of the highest paid, most in demand producers, editors and directors typically will lead to you winning the production business. \n",
    "However, creative talent is a highly trial and error hiring process, keeping talent is even harder particularly with the ebbs and flows of recession and boom and is nearly impossible to create metrics for identifying the next top and upcomming editors without just trying them out. \n",
    "So for this project I took the business approach, to analyze the data from a business profitability standpoint and see what simple strategies could be empoyed to get the higest return on investment in an industry that operates entirely on 'feel' and 'gut-instict'. \n"
   ]
  },
  {
   "cell_type": "markdown",
   "metadata": {},
   "source": [
    "### Section 1: Analysis of the Most Profitable Films"
   ]
  },
  {
   "cell_type": "markdown",
   "metadata": {},
   "source": [
    "The first thing I wanted to look at was the overall profitability of the top large-budget, hollywood blockbusters. \n",
    "It's easy to say, 'Whoa, that movie made a $1,000,000,000 they must be super rich'. However, many of these films are elaborate and complex requiring an army of people, hired on union contracts for months if not years, and thats just for production! Post prodcution can be equally expensive with modern computer animation requireing extensive teams of animators, unity develops, graphic artist and facility time with near super-computers rendering day and night. "
   ]
  },
  {
   "cell_type": "markdown",
   "metadata": {},
   "source": [
    "The data for revenue was easily obtainable as well as the data for production budgets, however there was a lack of profitiablility metrics, so after creating a centralized repository for the data, it was a fairly simple SQL join to create a new metric from the available data for all the films in the database. Turns out the most difficult part of this entire section was just filtering out miscelanious characters in the gross margin sections in order to work the the numbers as integers. "
   ]
  },
  {
   "cell_type": "code",
   "execution_count": null,
   "metadata": {},
   "outputs": [],
   "source": [
    "# Format SQL Database to remove non integer characters \n",
    "cur.execute(\"\"\" \n",
    "            UPDATE tn_movie_budgets_gz\n",
    "            SET worldwide_gross =  \n",
    "            REPLACE(worldwide_gross, '$', '');\"\"\")\n",
    "\n",
    "cur.execute(\"\"\" \n",
    "            UPDATE tn_movie_budgets_gz\n",
    "            SET worldwide_gross =  \n",
    "            REPLACE(worldwide_gross, ',', '');\"\"\")\n",
    "\n",
    "cur.execute(\"\"\" \n",
    "            UPDATE tn_movie_budgets_gz\n",
    "            SET production_budget =  \n",
    "            REPLACE(production_budget, '$', '');\"\"\")\n",
    "\n",
    "cur.execute(\"\"\" \n",
    "            UPDATE tn_movie_budgets_gz\n",
    "            SET production_budget =  \n",
    "            REPLACE(production_budget, ',', '');\"\"\")"
   ]
  },
  {
   "cell_type": "markdown",
   "metadata": {},
   "source": [
    "This was pushed into a datafield that could easily be manipulated or visualized: "
   ]
  },
  {
   "cell_type": "markdown",
   "metadata": {},
   "source": [
    "\n",
    "<img src=\"img/blog_profit.png\" />"
   ]
  },
  {
   "cell_type": "markdown",
   "metadata": {},
   "source": [
    "### Section 2: Examining Profitability by Studio"
   ]
  },
  {
   "cell_type": "code",
   "execution_count": null,
   "metadata": {},
   "outputs": [],
   "source": []
  }
 ],
 "metadata": {
  "kernelspec": {
   "display_name": "Python [conda env:learn-env] *",
   "language": "python",
   "name": "conda-env-learn-env-py"
  },
  "language_info": {
   "codemirror_mode": {
    "name": "ipython",
    "version": 3
   },
   "file_extension": ".py",
   "mimetype": "text/x-python",
   "name": "python",
   "nbconvert_exporter": "python",
   "pygments_lexer": "ipython3",
   "version": "3.6.9"
  },
  "toc": {
   "base_numbering": 1,
   "nav_menu": {},
   "number_sections": true,
   "sideBar": true,
   "skip_h1_title": false,
   "title_cell": "Table of Contents",
   "title_sidebar": "Contents",
   "toc_cell": false,
   "toc_position": {},
   "toc_section_display": true,
   "toc_window_display": false
  },
  "varInspector": {
   "cols": {
    "lenName": 16,
    "lenType": 16,
    "lenVar": 40
   },
   "kernels_config": {
    "python": {
     "delete_cmd_postfix": "",
     "delete_cmd_prefix": "del ",
     "library": "var_list.py",
     "varRefreshCmd": "print(var_dic_list())"
    },
    "r": {
     "delete_cmd_postfix": ") ",
     "delete_cmd_prefix": "rm(",
     "library": "var_list.r",
     "varRefreshCmd": "cat(var_dic_list()) "
    }
   },
   "types_to_exclude": [
    "module",
    "function",
    "builtin_function_or_method",
    "instance",
    "_Feature"
   ],
   "window_display": false
  }
 },
 "nbformat": 4,
 "nbformat_minor": 2
}

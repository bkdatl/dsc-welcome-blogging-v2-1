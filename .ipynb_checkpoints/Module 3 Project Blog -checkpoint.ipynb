{
 "cells": [
  {
   "cell_type": "markdown",
   "metadata": {},
   "source": [
    "# Project 3 Blog"
   ]
  },
  {
   "cell_type": "markdown",
   "metadata": {},
   "source": [
    "# An Analysis of Customer Churn in Telecom "
   ]
  },
  {
   "cell_type": "markdown",
   "metadata": {},
   "source": [
    "## Introduction "
   ]
  },
  {
   "cell_type": "markdown",
   "metadata": {},
   "source": [
    "Customer retention is on the most important aspects of highly competitive markets. Cable companies, Auto Insurance, Utilities all spend billions of dollars per year in order to retain customers and pull additional customer from their competitors. With these types of companies it is extremely difficult to retain customers as all their competitors essential offer the exact same product and a very competitive price. \n",
    "\n",
    "Therefore a company must do everything in their power to retain a paying customer. Through this project we will examine the customer data and build models to predict customer churn in the future. \n"
   ]
  },
  {
   "cell_type": "markdown",
   "metadata": {},
   "source": [
    "## Section 1 Data Analytics "
   ]
  },
  {
   "cell_type": "markdown",
   "metadata": {},
   "source": [
    "With any project the first thing to do is to physically analyze and examine the data. With this particular dataset the actual correlations between datapoints were relatively weak with not a single point getting a correlation score above .21. On this flip side the data variable we are examining is binary value, True or False. Either the customer churns or does not. Thus the actual linear correlation to this value is less important since every change in independent variable can only result in one of two outcomes, True or False. "
   ]
  },
  {
   "cell_type": "markdown",
   "metadata": {
    "ExecuteTime": {
     "end_time": "2020-04-28T17:23:29.202459Z",
     "start_time": "2020-04-28T17:23:29.151329Z"
    }
   },
   "source": [
    "\n",
    "<img src=\"img/churn_clean.png\" />"
   ]
  },
  {
   "cell_type": "markdown",
   "metadata": {},
   "source": [
    "Above is a display of the table after it has been cleaned and non-needed data has been removed. "
   ]
  },
  {
   "cell_type": "markdown",
   "metadata": {},
   "source": [
    "<img src=\"img/2_heat.png\" />"
   ]
  },
  {
   "cell_type": "markdown",
   "metadata": {},
   "source": [
    "Additionally, examining the heatmap - we can see that the overall correlation is relatively low. \n",
    "However there are noticeable spikes within a few values that are even more apparent when cross-referenced with additional visualizations. "
   ]
  },
  {
   "cell_type": "markdown",
   "metadata": {
    "ExecuteTime": {
     "end_time": "2020-04-28T17:27:42.687173Z",
     "start_time": "2020-04-28T17:27:42.665971Z"
    }
   },
   "source": [
    "<img src=\"img/2_daily_mins.png\" />"
   ]
  },
  {
   "cell_type": "markdown",
   "metadata": {},
   "source": [
    "<img src=\"img/2_total_call.png\" />"
   ]
  },
  {
   "cell_type": "markdown",
   "metadata": {},
   "source": [
    "As seen in the above plots the values appear to show increased churn with customers that pay the highest daily charges along with those that also utilize the highest number of daily minutes. "
   ]
  },
  {
   "cell_type": "markdown",
   "metadata": {
    "ExecuteTime": {
     "end_time": "2020-04-28T17:30:31.602637Z",
     "start_time": "2020-04-28T17:30:31.568361Z"
    }
   },
   "source": [
    "<img src=\"img/2_cust_serve.png\" />"
   ]
  },
  {
   "cell_type": "markdown",
   "metadata": {},
   "source": [
    "This plot shows customer churn with customers that open a high volume of customer service tickets. THis makes sense as if the product is unstable and some features are not working it can be a frustrating experience and the customer may look for alternatives. "
   ]
  },
  {
   "cell_type": "markdown",
   "metadata": {},
   "source": [
    "However not always can these problems can be solved as wireless telecomm has many variables, such as location, if the network does not support a users location and is cost prohibitive to expand the network then that customer may not be a good fit for the service regardless of other factors. "
   ]
  },
  {
   "cell_type": "markdown",
   "metadata": {},
   "source": [
    "# Modeling "
   ]
  },
  {
   "cell_type": "markdown",
   "metadata": {},
   "source": [
    "Three different models were used with this project: K Nearest Neighbor, Grid search and XGBoost. "
   ]
  },
  {
   "cell_type": "markdown",
   "metadata": {},
   "source": [
    "These models were recommended to me by practicing data scientist that works with large datasets containing binary values and thought they could produce strong model scores when applied to the customer churn "
   ]
  },
  {
   "cell_type": "markdown",
   "metadata": {
    "ExecuteTime": {
     "end_time": "2020-04-28T17:41:09.821345Z",
     "start_time": "2020-04-28T17:41:09.777825Z"
    }
   },
   "source": [
    "All the scores from the models were exceptionally high especially with all scoring over 90% accuracy. \n",
    "Some of this high scoring has to do with the simplification of binary classification as the model only needs to assign a value of 1 or 0 to each datapoint. "
   ]
  },
  {
   "cell_type": "markdown",
   "metadata": {
    "ExecuteTime": {
     "end_time": "2020-04-28T17:41:47.974775Z",
     "start_time": "2020-04-28T17:41:47.949511Z"
    }
   },
   "source": [
    "<img src=\"img/2_code.png\" />"
   ]
  },
  {
   "cell_type": "markdown",
   "metadata": {},
   "source": [
    "XGBoost especially shined in the project as it was extremely simple to modify, build and improve upon and is definitely a model I will be using in the future. "
   ]
  },
  {
   "cell_type": "markdown",
   "metadata": {},
   "source": [
    "# Conclusions"
   ]
  },
  {
   "cell_type": "markdown",
   "metadata": {},
   "source": [
    "In conclusion the dataset for customer churn is predictable and can be modeled with a high accuracy. From the project we can offer a few suggestions to the company moving forward so that they can lower customer chrun: \n",
    "- Building a new pricing model so that high minute users can lower their billing\n",
    "- Identifying causes of high customer service tickets \n",
    "- Instituting perhaps a flat rate or package plan that does not bill by minute to prevent scaled costs. "
   ]
  },
  {
   "cell_type": "code",
   "execution_count": null,
   "metadata": {},
   "outputs": [],
   "source": []
  }
 ],
 "metadata": {
  "kernelspec": {
   "display_name": "Python [conda env:learn-env] *",
   "language": "python",
   "name": "conda-env-learn-env-py"
  },
  "language_info": {
   "codemirror_mode": {
    "name": "ipython",
    "version": 3
   },
   "file_extension": ".py",
   "mimetype": "text/x-python",
   "name": "python",
   "nbconvert_exporter": "python",
   "pygments_lexer": "ipython3",
   "version": "3.6.9"
  },
  "toc": {
   "base_numbering": 1,
   "nav_menu": {},
   "number_sections": true,
   "sideBar": true,
   "skip_h1_title": false,
   "title_cell": "Table of Contents",
   "title_sidebar": "Contents",
   "toc_cell": false,
   "toc_position": {},
   "toc_section_display": true,
   "toc_window_display": false
  }
 },
 "nbformat": 4,
 "nbformat_minor": 2
}

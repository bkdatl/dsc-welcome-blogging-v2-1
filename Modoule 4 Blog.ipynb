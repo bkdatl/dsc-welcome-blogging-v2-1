{
 "cells": [
  {
   "cell_type": "markdown",
   "metadata": {},
   "source": [
    "# Module 4 - Building and Recommendation System "
   ]
  },
  {
   "cell_type": "markdown",
   "metadata": {},
   "source": [
    "Recommendation systems are prevalent throughout everyones day to day usage of the internet. Understanding the realtionships betweet the particular items in datasets it extremely useful, thus I wanted to have a strong understanding of how they function and the proper way to build such systems. The data set examined to build these systems is historical movie ratings. These ratings are based on a 1 to 5 scale. I wanted to examine trends within the data set to identify film titles related to those previously rated by users. "
   ]
  },
  {
   "cell_type": "markdown",
   "metadata": {},
   "source": [
    "## Importing and Cleaning Data"
   ]
  },
  {
   "cell_type": "markdown",
   "metadata": {},
   "source": [
    "The data was stored on multiple CSV files - each containing sections of data necessary for the recommendation system to function properly. A user ID, tracking each individuals rating preferences and history of all movies they have rated. Each of these tables was imported into a unique dataframe using pandas to allow for ease of data manipulation. "
   ]
  },
  {
   "cell_type": "markdown",
   "metadata": {},
   "source": [
    "<img src=\"img/movie_data.png\" />"
   ]
  },
  {
   "cell_type": "markdown",
   "metadata": {},
   "source": [
    "## Data Analysis "
   ]
  },
  {
   "cell_type": "markdown",
   "metadata": {},
   "source": [
    "I approched this project with a two fold approach - first: building a recommendation system with a purely statistical approach - examining user rating purely though correlation. This was done by first merging the data sets and secondly by creating a matrix of each individual user rating and the related movie title. To narrow down titles with a statistically significan number of ratings I narrowed down the data set to only see film titles with more than 100 ratings. "
   ]
  },
  {
   "cell_type": "markdown",
   "metadata": {},
   "source": [
    "\n",
    "<img src=\"img/moviemerge.png\" />"
   ]
  },
  {
   "cell_type": "markdown",
   "metadata": {},
   "source": [
    "The titles with more than 100 ratings were examined to see trends on the number of ratings given and the overall movie rating. "
   ]
  },
  {
   "cell_type": "markdown",
   "metadata": {},
   "source": [
    "<img src=\"img/movie_rate_100.png\" />"
   ]
  },
  {
   "cell_type": "markdown",
   "metadata": {},
   "source": [
    "As expected, movies rated highly also have a large number of ratings, this is typical for most rating systems as the more popular item with garner more attention. "
   ]
  },
  {
   "cell_type": "markdown",
   "metadata": {},
   "source": [
    "Using this statistical approach for the development of a recommendation system proved to be highly effective, for example in reviewing the title \"Pulp Fiction\", it showed a strong correlation in similar reviews to films by the same director and films within the same genere. "
   ]
  },
  {
   "cell_type": "markdown",
   "metadata": {},
   "source": [
    "<img src=\"img/pfcorr.png\" />"
   ]
  },
  {
   "cell_type": "markdown",
   "metadata": {},
   "source": [
    "## Modeling"
   ]
  },
  {
   "cell_type": "markdown",
   "metadata": {},
   "source": [
    "To take this project a step further, I wanted to incorporate machine learning modeling into this project. For this I elected to utilize the Suprise modeling libray. The data was fit to the model, and an user prompted application was written to prompt users to rate 5 previous titles that they have seen, based on this input from the user, the model then found films correlated to the reviewed titles and generated a list of similar films that they would most likely rate highly as well. "
   ]
  },
  {
   "cell_type": "markdown",
   "metadata": {
    "ExecuteTime": {
     "end_time": "2020-08-06T09:18:33.236119Z",
     "start_time": "2020-08-06T09:18:33.186664Z"
    }
   },
   "source": [
    "<img src=\"img/userin.png\" />"
   ]
  },
  {
   "cell_type": "markdown",
   "metadata": {},
   "source": [
    "The program would also allow users to identify a particular genere they would like sorted. This model produced strong results - finding titles similar to that users previously reviewed films after sorting the database. "
   ]
  },
  {
   "cell_type": "markdown",
   "metadata": {
    "ExecuteTime": {
     "end_time": "2020-08-06T09:21:31.487340Z",
     "start_time": "2020-08-06T09:21:31.464538Z"
    }
   },
   "source": [
    "<img src=\"img/output.png\" />"
   ]
  },
  {
   "cell_type": "markdown",
   "metadata": {},
   "source": [
    "## Conclusion "
   ]
  },
  {
   "cell_type": "markdown",
   "metadata": {},
   "source": [
    "In conclusion - the model performed very well - and returned results that would be expected of a commercial reccomendation system. To advance this project I would like to add additional model engines that can be selected to compare the restults from surprise. Additionally, I would like to add a more aggresive filtering system in order to better descrimate the output by genre. "
   ]
  },
  {
   "cell_type": "code",
   "execution_count": null,
   "metadata": {},
   "outputs": [],
   "source": []
  }
 ],
 "metadata": {
  "kernelspec": {
   "display_name": "Python [conda env:learn-env] *",
   "language": "python",
   "name": "conda-env-learn-env-py"
  },
  "language_info": {
   "codemirror_mode": {
    "name": "ipython",
    "version": 3
   },
   "file_extension": ".py",
   "mimetype": "text/x-python",
   "name": "python",
   "nbconvert_exporter": "python",
   "pygments_lexer": "ipython3",
   "version": "3.6.9"
  },
  "toc": {
   "base_numbering": 1,
   "nav_menu": {},
   "number_sections": true,
   "sideBar": true,
   "skip_h1_title": false,
   "title_cell": "Table of Contents",
   "title_sidebar": "Contents",
   "toc_cell": false,
   "toc_position": {},
   "toc_section_display": true,
   "toc_window_display": false
  }
 },
 "nbformat": 4,
 "nbformat_minor": 2
}
